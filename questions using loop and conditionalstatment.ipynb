{
 "cells": [
  {
   "cell_type": "code",
   "execution_count": 1,
   "id": "5a9d156b-62f1-440a-8828-81f5d9d14eaf",
   "metadata": {},
   "outputs": [
    {
     "name": "stdin",
     "output_type": "stream",
     "text": [
      " 5\n"
     ]
    },
    {
     "name": "stdout",
     "output_type": "stream",
     "text": [
      "factorial of 5 is 120\n"
     ]
    }
   ],
   "source": [
    "n=int(input())\n",
    "fact=1\n",
    "for i in range(1,n+1):\n",
    "    fact=fact*i\n",
    "print('factorial of',n,'is',fact)"
   ]
  },
  {
   "cell_type": "code",
   "execution_count": 28,
   "id": "a5a213fd-6ccd-44dc-b857-ff49efc6fb47",
   "metadata": {},
   "outputs": [
    {
     "name": "stdout",
     "output_type": "stream",
     "text": [
      "9\n",
      "7\n"
     ]
    }
   ],
   "source": [
    "a='mahendran-6066681'\n",
    "alphabet=0\n",
    "digits=0\n",
    "for i in a:\n",
    "    if i.isalpha():\n",
    "        alphabet+=1\n",
    "    elif i.isdigit():\n",
    "        digits+=1\n",
    "print(alphabet)\n",
    "print(digits)"
   ]
  },
  {
   "cell_type": "code",
   "execution_count": 22,
   "id": "3f5f3b07-0857-465d-b7a1-dca087b7098a",
   "metadata": {},
   "outputs": [
    {
     "name": "stdout",
     "output_type": "stream",
     "text": [
      "loop skips\n"
     ]
    }
   ],
   "source": [
    "for index in range(50,30,-3):\n",
    "    if index==50:\n",
    "        print(\"loop skips\")\n",
    "        continue\n",
    "        print(index,end='')\n",
    "        print(index)"
   ]
  },
  {
   "cell_type": "code",
   "execution_count": 50,
   "id": "37d472a9-4517-4007-bb2c-e2ba6d89cc2b",
   "metadata": {},
   "outputs": [
    {
     "name": "stdin",
     "output_type": "stream",
     "text": [
      "enter a 1st number 10\n",
      "enter a 2nd number 20\n",
      "enter a 3rd number 30\n"
     ]
    },
    {
     "name": "stdout",
     "output_type": "stream",
     "text": [
      "20\n",
      "the median is: (10, 20, 30)\n"
     ]
    }
   ],
   "source": [
    "a=int(input('enter a 1st number'))\n",
    "b=int(input('enter a 2nd number'))\n",
    "c=int(input('enter a 3rd number'))\n",
    "median=(a,b,c)\n",
    "if (a>b and a<c) or (a<b and a>c):\n",
    "    print(a)\n",
    "elif (b>a and b<c) or (b<a and b>c):\n",
    "    print(b)\n",
    "else:\n",
    "    print(c)\n",
    "print('the median is:',median)"
   ]
  },
  {
   "cell_type": "code",
   "execution_count": 32,
   "id": "0729e5e9-abc5-4a8f-aa9e-56f3eeb7f3cb",
   "metadata": {},
   "outputs": [
    {
     "name": "stdout",
     "output_type": "stream",
     "text": [
      "1\n",
      "3\n",
      "5\n",
      "7\n",
      "9\n",
      "11\n",
      "13\n",
      "15\n",
      "17\n",
      "19\n",
      "21\n",
      "23\n",
      "25\n",
      "\n"
     ]
    }
   ],
   "source": [
    "i='odd numbers'\n",
    "for i in range(1,26):\n",
    "    if i%2!=0:\n",
    "        print(i)\n",
    "print()        "
   ]
  },
  {
   "cell_type": "code",
   "execution_count": 46,
   "id": "3bde20cf-7316-4cf5-9e46-428f26a7c9ec",
   "metadata": {},
   "outputs": [
    {
     "name": "stdin",
     "output_type": "stream",
     "text": [
      " 5\n"
     ]
    },
    {
     "name": "stdout",
     "output_type": "stream",
     "text": [
      "multiplication table of 5\n",
      "5\n",
      "10\n",
      "15\n",
      "20\n",
      "25\n",
      "30\n",
      "35\n",
      "40\n",
      "45\n",
      "50\n"
     ]
    }
   ],
   "source": [
    "n=int(input())\n",
    "print(\"multiplication table of\",n)\n",
    "for i in range(1,11):\n",
    "    print(i*n)"
   ]
  },
  {
   "cell_type": "code",
   "execution_count": 54,
   "id": "c2b55402-cb62-411c-857f-8063cd53cd0d",
   "metadata": {},
   "outputs": [
    {
     "name": "stdin",
     "output_type": "stream",
     "text": [
      " 100000\n",
      " 0.05\n",
      " 0.04\n"
     ]
    },
    {
     "name": "stdout",
     "output_type": "stream",
     "text": [
      "year 1:4000.00\n",
      "year 2:4200.00\n",
      "year 3:4410.00\n",
      "year 4:4630.50\n",
      "year 5:4862.03\n",
      "year 6:5105.13\n",
      "year 7:5360.38\n",
      "year 8:5628.40\n",
      "year 9:5909.82\n",
      "year 10:6205.31\n"
     ]
    }
   ],
   "source": [
    "initial_population=int(input())\n",
    "growth_rate=float(input())\n",
    "female_precentage=float(input())\n",
    "for year in range(10):\n",
    "    total=initial_population*(1+growth_rate)**year\n",
    "    female=total*female_precentage\n",
    "    print(f\"year {year+1}:{female:.2f}\")"
   ]
  },
  {
   "cell_type": "code",
   "execution_count": 5,
   "id": "89175f0f-de37-4cd7-8c1a-73af9e16e1cc",
   "metadata": {},
   "outputs": [
    {
     "name": "stdout",
     "output_type": "stream",
     "text": [
      "palindrome string\n"
     ]
    }
   ],
   "source": [
    "s=\"amma\"\n",
    "s=s.lower()\n",
    "s1=reversed(s)\n",
    "if list(s)==list(s1):\n",
    "    print(\"palindrome string\")\n",
    "else:\n",
    "    print(\"not a palindrome string\")"
   ]
  },
  {
   "cell_type": "code",
   "execution_count": null,
   "id": "64d619c2-e3c2-4e81-82ed-61fbe22ec90d",
   "metadata": {},
   "outputs": [],
   "source": []
  }
 ],
 "metadata": {
  "kernelspec": {
   "display_name": "Python 3 (ipykernel)",
   "language": "python",
   "name": "python3"
  },
  "language_info": {
   "codemirror_mode": {
    "name": "ipython",
    "version": 3
   },
   "file_extension": ".py",
   "mimetype": "text/x-python",
   "name": "python",
   "nbconvert_exporter": "python",
   "pygments_lexer": "ipython3",
   "version": "3.12.4"
  }
 },
 "nbformat": 4,
 "nbformat_minor": 5
}
