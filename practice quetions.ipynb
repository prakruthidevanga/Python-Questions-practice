{
 "cells": [
  {
   "cell_type": "code",
   "execution_count": 1,
   "id": "450a8957-eb9f-40e7-a731-22066a781610",
   "metadata": {},
   "outputs": [
    {
     "name": "stdin",
     "output_type": "stream",
     "text": [
      " 5\n"
     ]
    },
    {
     "name": "stdout",
     "output_type": "stream",
     "text": [
      "factorial of 5 is 120\n"
     ]
    }
   ],
   "source": [
    "n=int(input())\n",
    "fact=1\n",
    "for i in range(1,n+1):\n",
    "    fact=fact*i\n",
    "print('factorial of',n,'is',fact)"
   ]
  },
  {
   "cell_type": "code",
   "execution_count": 3,
   "id": "6c766455-0afa-4287-8f1f-916ddc5d38ae",
   "metadata": {},
   "outputs": [
    {
     "name": "stdout",
     "output_type": "stream",
     "text": [
      "9\n",
      "7\n"
     ]
    }
   ],
   "source": [
    "a='mahendran-6066681'\n",
    "alphabet=0\n",
    "digits=0\n",
    "for i in a:\n",
    "    if i.isalpha():\n",
    "        alphabet+=1\n",
    "    elif i.isdigit():\n",
    "        digits+=1\n",
    "print(alphabet)\n",
    "print(digits)"
   ]
  },
  {
   "cell_type": "code",
   "execution_count": 5,
   "id": "97492578-9acc-427d-8154-1644e0a8084c",
   "metadata": {},
   "outputs": [
    {
     "name": "stdout",
     "output_type": "stream",
     "text": [
      "50 47 44 41 38 35 32 32\n"
     ]
    }
   ],
   "source": [
    "for index in range(50,30,-3):\n",
    "     print(index,end=' ')\n",
    "print(index)"
   ]
  },
  {
   "cell_type": "code",
   "execution_count": 7,
   "id": "f331a9a3-906a-4b09-a72b-082f00034e14",
   "metadata": {},
   "outputs": [
    {
     "name": "stdin",
     "output_type": "stream",
     "text": [
      "enter a 1st number 26\n",
      "enter a 2nd number 30\n",
      "enter a 3rd number 36\n"
     ]
    },
    {
     "name": "stdout",
     "output_type": "stream",
     "text": [
      "30\n",
      "the median is: (26, 30, 36)\n"
     ]
    }
   ],
   "source": [
    "a=int(input('enter a 1st number'))\n",
    "b=int(input('enter a 2nd number'))\n",
    "c=int(input('enter a 3rd number'))\n",
    "median=(a,b,c)\n",
    "if (a>b and a<c) or (a<b and a>c):\n",
    "    print(a)\n",
    "elif (b>a and b<c) or (b<a and b>c):\n",
    "    print(b)\n",
    "else:\n",
    "    print(c)\n",
    "print('the median is:',median)"
   ]
  },
  {
   "cell_type": "code",
   "execution_count": 9,
   "id": "f4016984-7f36-44d7-9535-4c6a4aa917d6",
   "metadata": {},
   "outputs": [
    {
     "name": "stdout",
     "output_type": "stream",
     "text": [
      "0\n",
      "1\n",
      "3\n",
      "5\n",
      "7\n",
      "9\n",
      "11\n",
      "13\n",
      "15\n",
      "17\n",
      "19\n",
      "21\n",
      "23\n",
      "25\n",
      "\n"
     ]
    }
   ],
   "source": [
    "i='odd numbers'\n",
    "print(0)\n",
    "for i in range(1,26):\n",
    "    if i%2!=0:\n",
    "        print(i)\n",
    "print()        "
   ]
  },
  {
   "cell_type": "code",
   "execution_count": 11,
   "id": "e5230fc9-1466-4f66-8017-d0ea78f34dfc",
   "metadata": {},
   "outputs": [
    {
     "name": "stdin",
     "output_type": "stream",
     "text": [
      " 5\n"
     ]
    },
    {
     "name": "stdout",
     "output_type": "stream",
     "text": [
      "multiplication table of 5\n",
      "5\n",
      "10\n",
      "15\n",
      "20\n",
      "25\n",
      "30\n",
      "35\n",
      "40\n",
      "45\n",
      "50\n"
     ]
    }
   ],
   "source": [
    "n=int(input())\n",
    "print(\"multiplication table of\",n)\n",
    "for i in range(1,11):\n",
    "    print(i*n)"
   ]
  },
  {
   "cell_type": "code",
   "execution_count": null,
   "id": "a3eae10e-3cc7-4eae-8a29-fea8288e99f1",
   "metadata": {},
   "outputs": [],
   "source": []
  }
 ],
 "metadata": {
  "kernelspec": {
   "display_name": "Python 3 (ipykernel)",
   "language": "python",
   "name": "python3"
  },
  "language_info": {
   "codemirror_mode": {
    "name": "ipython",
    "version": 3
   },
   "file_extension": ".py",
   "mimetype": "text/x-python",
   "name": "python",
   "nbconvert_exporter": "python",
   "pygments_lexer": "ipython3",
   "version": "3.12.4"
  }
 },
 "nbformat": 4,
 "nbformat_minor": 5
}
